{
  "cells": [
    {
      "cell_type": "code",
      "execution_count": null,
      "metadata": {
        "colab": {
          "base_uri": "https://localhost:8080/"
        },
        "id": "rI86CVEeLGLx",
        "outputId": "e186d554-e48f-4680-864b-96213f8120d2"
      },
      "outputs": [
        {
          "output_type": "stream",
          "name": "stdout",
          "text": [
            "Cloning into 'food101'...\n",
            "remote: Enumerating objects: 6220, done.\u001b[K\n",
            "remote: Counting objects: 100% (20/20), done.\u001b[K\n",
            "remote: Compressing objects: 100% (19/19), done.\u001b[K\n",
            "remote: Total 6220 (delta 1), reused 16 (delta 1), pack-reused 6200 (from 4)\u001b[K\n",
            "Receiving objects: 100% (6220/6220), 169.23 MiB | 26.59 MiB/s, done.\n",
            "Resolving deltas: 100% (1/1), done.\n",
            "Updating files: 100% (6256/6256), done.\n"
          ]
        }
      ],
      "source": [
        "!git clone https://github.com/Bhavnoor-Coders-1010/food101.git"
      ]
    },
    {
      "cell_type": "code",
      "execution_count": null,
      "metadata": {
        "colab": {
          "base_uri": "https://localhost:8080/"
        },
        "id": "x_zLgdGqLQxd",
        "outputId": "a5534dd1-aa60-4af2-a49b-ce685d1e46b4"
      },
      "outputs": [
        {
          "output_type": "stream",
          "name": "stdout",
          "text": [
            "/content/food101\n"
          ]
        }
      ],
      "source": [
        "%cd food101"
      ]
    },
    {
      "cell_type": "code",
      "source": [
        "%ls models"
      ],
      "metadata": {
        "colab": {
          "base_uri": "https://localhost:8080/"
        },
        "id": "W8JiZ8glIVDr",
        "outputId": "bb34d2db-99e3-46c1-9e01-8bd72e174106"
      },
      "execution_count": null,
      "outputs": [
        {
          "output_type": "stream",
          "name": "stdout",
          "text": [
            "MobileNetV2Tuned.keras  untitled\n"
          ]
        }
      ]
    },
    {
      "cell_type": "code",
      "execution_count": 13,
      "metadata": {
        "id": "bNcnATbJLuS_"
      },
      "outputs": [],
      "source": [
        "import numpy as np\n",
        "import pandas as pd\n",
        "from tensorflow import keras\n",
        "from tensorflow.keras import layers\n",
        "import matplotlib.pyplot as plt\n",
        "import os"
      ]
    },
    {
      "cell_type": "code",
      "execution_count": null,
      "metadata": {
        "colab": {
          "base_uri": "https://localhost:8080/"
        },
        "id": "iTUmhC6vL1v0",
        "outputId": "ed334840-f774-461a-b8e2-7c12f338aa9d"
      },
      "outputs": [
        {
          "output_type": "stream",
          "name": "stdout",
          "text": [
            "  imagePath  label\n",
            "0  0342.jpg      2\n",
            "1  1077.jpg      0\n",
            "2  2314.jpg     11\n",
            "3  3068.jpg      0\n",
            "4  4121.jpg     13\n",
            "   Unnamed: 0 imagePath  label\n",
            "0           0  0205.jpg      5\n",
            "1           1  1134.jpg      3\n",
            "2           2  2231.jpg      5\n",
            "3           3  3401.jpg      4\n",
            "4           4  4280.jpg     10\n"
          ]
        }
      ],
      "source": [
        "df = pd.read_csv('DataFOOD101/train.csv')\n",
        "train_df=df.copy()\n",
        "df_2 = pd.read_csv('DataFOOD101/test.csv')\n",
        "test_df=df_2.copy()\n",
        "\n",
        "print(train_df.head())\n",
        "\n",
        "print(test_df.head())\n",
        "\n",
        "\n",
        "image_folder_train = 'DataFOOD101/Train/'\n",
        "image_folder_test = 'DataFOOD101/Test/'\n",
        "\n",
        "class_names = {\n",
        "  0 : \"burger\",\n",
        "  1 : \"butter_naan\",\n",
        "  2 : \"chai\",\n",
        "  3 : \"chapati\",\n",
        "  4 : \"chole_bhature\",\n",
        "  5 : \"dal_makhani\",\n",
        "  6 : \"dhokla\",\n",
        "  7 : \"fried_rice\",\n",
        "  8 : \"idli\",\n",
        "  9 : \"jalebi\",\n",
        "  10 : \"kathi_roll\",\n",
        "  11 : \"kadhai_paneer\",\n",
        "  12 : \"kulfi\",\n",
        "  13 : \"masala_dosa\",\n",
        "  14 : \"momos\",\n",
        "  15 : \"paani_puri\",\n",
        "  16 : \"pakode\",\n",
        "  17 : \"pav_bhaji\",\n",
        "  18 : \"pizza\",\n",
        "  19 : \"samosa\"\n",
        "}\n",
        "\n",
        "for food in class_names.values():\n",
        "  os.makedirs(os.path.join(image_folder_train, food), exist_ok = True)\n",
        "  os.makedirs(os.path.join(image_folder_test, food), exist_ok = True)\n",
        "\n",
        "for i, row in train_df.iterrows():\n",
        "  image_path = os.path.join(image_folder_train + row[\"imagePath\"])\n",
        "  new_path = os.path.join(image_folder_train, f\"{class_names[row['label']]}/\" + row[\"imagePath\"])\n",
        "  if(os.path.isfile(image_path)):\n",
        "    os.replace(image_path, new_path)\n",
        "\n",
        "for i, row in test_df.iterrows():\n",
        "  image_path = os.path.join(image_folder_test + row[\"imagePath\"])\n",
        "  new_path = os.path.join(image_folder_test, f\"{class_names[row['label']]}/\" + row[\"imagePath\"])\n",
        "  if(os.path.isfile(image_path)):\n",
        "    os.replace(image_path, new_path)"
      ]
    },
    {
      "cell_type": "code",
      "execution_count": 9,
      "metadata": {
        "colab": {
          "base_uri": "https://localhost:8080/",
          "height": 211
        },
        "id": "RM1aCvK-MuZT",
        "outputId": "bd95a623-9002-4578-d563-2cec836bfca5"
      },
      "outputs": [
        {
          "output_type": "error",
          "ename": "NameError",
          "evalue": "name 'image_folder_train' is not defined",
          "traceback": [
            "\u001b[0;31m---------------------------------------------------------------------------\u001b[0m",
            "\u001b[0;31mNameError\u001b[0m                                 Traceback (most recent call last)",
            "\u001b[0;32m<ipython-input-9-d6fc27c5fecb>\u001b[0m in \u001b[0;36m<cell line: 13>\u001b[0;34m()\u001b[0m\n\u001b[1;32m     11\u001b[0m                                    horizontal_flip=True)\n\u001b[1;32m     12\u001b[0m \u001b[0;34m\u001b[0m\u001b[0m\n\u001b[0;32m---> 13\u001b[0;31m train_generator = train_datagen.flow_from_directory(image_folder_train,\n\u001b[0m\u001b[1;32m     14\u001b[0m                                                            \u001b[0mtarget_size\u001b[0m \u001b[0;34m=\u001b[0m \u001b[0mIMG_SIZE\u001b[0m\u001b[0;34m,\u001b[0m\u001b[0;34m\u001b[0m\u001b[0;34m\u001b[0m\u001b[0m\n\u001b[1;32m     15\u001b[0m                                                            \u001b[0mclass_mode\u001b[0m\u001b[0;34m=\u001b[0m\u001b[0;34m'sparse'\u001b[0m\u001b[0;34m,\u001b[0m\u001b[0;34m\u001b[0m\u001b[0;34m\u001b[0m\u001b[0m\n",
            "\u001b[0;31mNameError\u001b[0m: name 'image_folder_train' is not defined"
          ]
        }
      ],
      "source": [
        "from tensorflow.keras.preprocessing.image import ImageDataGenerator\n",
        "\n",
        "batch_size = 32\n",
        "IMG_SIZE = (224, 224)\n",
        "\n",
        "train_datagen = ImageDataGenerator(rescale=1. / 255,\n",
        "                                   validation_split=0.2,\n",
        "                                   rotation_range=30,\n",
        "                                   shear_range=0.2,\n",
        "                                   zoom_range=0.2,\n",
        "                                   horizontal_flip=True)\n",
        "\n",
        "train_generator = train_datagen.flow_from_directory(image_folder_train,\n",
        "                                                           target_size = IMG_SIZE,\n",
        "                                                           class_mode='sparse',\n",
        "                                                           batch_size = batch_size,\n",
        "                                                           subset='training',\n",
        "                                                           shuffle=True)\n",
        "\n",
        "validation_generator = train_datagen.flow_from_directory(image_folder_train,\n",
        "                                                           target_size = IMG_SIZE,\n",
        "                                                           class_mode='sparse',\n",
        "                                                           batch_size = batch_size,\n",
        "                                                           subset='validation',\n",
        "                                                           shuffle=True)\n",
        "# test_data_augmentor = ImageDataGenerator(rescale = 1. / 255)\n",
        "# test_generator = test_data_augmentor.flow_from_directory(image_folder_test,\n",
        "#                                                            target_size = IMG_SIZE,\n",
        "#                                                            batch_size = batch_size,\n",
        "#                                                            class_mode = 'categorical')"
      ]
    },
    {
      "cell_type": "code",
      "execution_count": null,
      "metadata": {
        "id": "bWxxOML1M7Ys",
        "colab": {
          "base_uri": "https://localhost:8080/"
        },
        "outputId": "2bcb83f2-5a14-490a-a600-94c6afc76d98"
      },
      "outputs": [
        {
          "output_type": "execute_result",
          "data": {
            "text/plain": [
              "{'burger': 0,\n",
              " 'butter_naan': 1,\n",
              " 'chai': 2,\n",
              " 'chapati': 3,\n",
              " 'chole_bhature': 4,\n",
              " 'dal_makhani': 5,\n",
              " 'dhokla': 6,\n",
              " 'fried_rice': 7,\n",
              " 'idli': 8,\n",
              " 'jalebi': 9,\n",
              " 'kadhai_paneer': 10,\n",
              " 'kathi_roll': 11,\n",
              " 'kulfi': 12,\n",
              " 'masala_dosa': 13,\n",
              " 'momos': 14,\n",
              " 'paani_puri': 15,\n",
              " 'pakode': 16,\n",
              " 'pav_bhaji': 17,\n",
              " 'pizza': 18,\n",
              " 'samosa': 19}"
            ]
          },
          "metadata": {},
          "execution_count": 6
        }
      ],
      "source": [
        "class_map = train_generator.class_indices\n",
        "class_map #kadhai_paneer and kathi_roll are swapped as compared to `class_names`."
      ]
    },
    {
      "cell_type": "code",
      "execution_count": null,
      "metadata": {
        "colab": {
          "base_uri": "https://localhost:8080/"
        },
        "id": "voIOZVgnNf-m",
        "outputId": "a25b2cfd-2c71-4eaf-b692-c2903aae9b17"
      },
      "outputs": [
        {
          "output_type": "stream",
          "name": "stdout",
          "text": [
            "Downloading data from https://storage.googleapis.com/tensorflow/keras-applications/mobilenet_v2/mobilenet_v2_weights_tf_dim_ordering_tf_kernels_1.0_224_no_top.h5\n",
            "\u001b[1m9406464/9406464\u001b[0m \u001b[32m━━━━━━━━━━━━━━━━━━━━\u001b[0m\u001b[37m\u001b[0m \u001b[1m0s\u001b[0m 0us/step\n"
          ]
        }
      ],
      "source": [
        "from tensorflow.keras import layers, models\n",
        "from tensorflow.keras.applications import MobileNetV2\n",
        "\n",
        "base_model = MobileNetV2(weights='imagenet', include_top=False, input_shape=IMG_SIZE+(3,))\n",
        "\n",
        "for layer in base_model.layers:\n",
        "    layer.trainable = False\n",
        "\n",
        "model = models.Sequential([\n",
        "    base_model,\n",
        "    layers.Flatten(),\n",
        "    layers.BatchNormalization(),\n",
        "    layers.Dense(units=128, activation='relu'),\n",
        "    layers.BatchNormalization(),\n",
        "    layers.Dropout(0.2),\n",
        "    layers.Dense(units=20, activation='softmax')\n",
        "])"
      ]
    },
    {
      "cell_type": "code",
      "source": [
        "from keras.callbacks import ModelCheckpoint\n",
        "\n",
        "early_stopping = keras.callbacks.EarlyStopping(monitor='val_loss', patience=5, restore_best_weights=True)\n",
        "\n",
        "checkpoint_callback = ModelCheckpoint(\n",
        "    filepath='models/model_epoch_{epoch:02d}.keras',\n",
        "    monitor='val_accuracy',\n",
        "    save_best_only=True,\n",
        "    save_freq='epoch',\n",
        ")\n",
        "\n",
        "model.compile(\n",
        "    optimizer=keras.optimizers.Adam(learning_rate=0.01),\n",
        "    loss='sparse_categorical_crossentropy',\n",
        "    metrics=['accuracy']\n",
        ")\n",
        "\n",
        "trained_model = model.fit(\n",
        "    train_generator,\n",
        "    epochs=25,\n",
        "    validation_data=validation_generator,\n",
        "    callbacks=[checkpoint_callback]\n",
        ")"
      ],
      "metadata": {
        "id": "K4PLDzZXdjah",
        "colab": {
          "base_uri": "https://localhost:8080/"
        },
        "outputId": "4acb8d1e-232a-4472-f11d-f81cbd605fa0"
      },
      "execution_count": null,
      "outputs": [
        {
          "output_type": "stream",
          "name": "stdout",
          "text": [
            "Epoch 1/25\n"
          ]
        },
        {
          "output_type": "stream",
          "name": "stderr",
          "text": [
            "/usr/local/lib/python3.10/dist-packages/keras/src/trainers/data_adapters/py_dataset_adapter.py:122: UserWarning: Your `PyDataset` class should call `super().__init__(**kwargs)` in its constructor. `**kwargs` can include `workers`, `use_multiprocessing`, `max_queue_size`. Do not pass these arguments to `fit()`, as they will be ignored.\n",
            "  self._warn_if_super_not_called()\n"
          ]
        },
        {
          "output_type": "stream",
          "name": "stdout",
          "text": [
            "\u001b[1m134/134\u001b[0m \u001b[32m━━━━━━━━━━━━━━━━━━━━\u001b[0m\u001b[37m\u001b[0m \u001b[1m87s\u001b[0m 533ms/step - accuracy: 0.4750 - loss: 1.9112 - val_accuracy: 0.7125 - val_loss: 1.1167\n",
            "Epoch 2/25\n",
            "\u001b[1m134/134\u001b[0m \u001b[32m━━━━━━━━━━━━━━━━━━━━\u001b[0m\u001b[37m\u001b[0m \u001b[1m61s\u001b[0m 435ms/step - accuracy: 0.7643 - loss: 0.7668 - val_accuracy: 0.7505 - val_loss: 1.0047\n",
            "Epoch 3/25\n",
            "\u001b[1m134/134\u001b[0m \u001b[32m━━━━━━━━━━━━━━━━━━━━\u001b[0m\u001b[37m\u001b[0m \u001b[1m93s\u001b[0m 518ms/step - accuracy: 0.8372 - loss: 0.5432 - val_accuracy: 0.7486 - val_loss: 0.9978\n",
            "Epoch 4/25\n",
            "\u001b[1m134/134\u001b[0m \u001b[32m━━━━━━━━━━━━━━━━━━━━\u001b[0m\u001b[37m\u001b[0m \u001b[1m70s\u001b[0m 431ms/step - accuracy: 0.8691 - loss: 0.4327 - val_accuracy: 0.7505 - val_loss: 1.0020\n",
            "Epoch 5/25\n",
            "\u001b[1m134/134\u001b[0m \u001b[32m━━━━━━━━━━━━━━━━━━━━\u001b[0m\u001b[37m\u001b[0m \u001b[1m61s\u001b[0m 429ms/step - accuracy: 0.8858 - loss: 0.3409 - val_accuracy: 0.7457 - val_loss: 1.0900\n",
            "Epoch 6/25\n",
            "\u001b[1m134/134\u001b[0m \u001b[32m━━━━━━━━━━━━━━━━━━━━\u001b[0m\u001b[37m\u001b[0m \u001b[1m82s\u001b[0m 440ms/step - accuracy: 0.8898 - loss: 0.3300 - val_accuracy: 0.7457 - val_loss: 1.0869\n",
            "Epoch 7/25\n",
            "\u001b[1m134/134\u001b[0m \u001b[32m━━━━━━━━━━━━━━━━━━━━\u001b[0m\u001b[37m\u001b[0m \u001b[1m82s\u001b[0m 434ms/step - accuracy: 0.8911 - loss: 0.3346 - val_accuracy: 0.7429 - val_loss: 1.1793\n",
            "Epoch 8/25\n",
            "\u001b[1m134/134\u001b[0m \u001b[32m━━━━━━━━━━━━━━━━━━━━\u001b[0m\u001b[37m\u001b[0m \u001b[1m61s\u001b[0m 437ms/step - accuracy: 0.9118 - loss: 0.2723 - val_accuracy: 0.7410 - val_loss: 1.2981\n",
            "Epoch 9/25\n",
            "\u001b[1m134/134\u001b[0m \u001b[32m━━━━━━━━━━━━━━━━━━━━\u001b[0m\u001b[37m\u001b[0m \u001b[1m82s\u001b[0m 435ms/step - accuracy: 0.9165 - loss: 0.2529 - val_accuracy: 0.7571 - val_loss: 1.2413\n",
            "Epoch 10/25\n",
            "\u001b[1m134/134\u001b[0m \u001b[32m━━━━━━━━━━━━━━━━━━━━\u001b[0m\u001b[37m\u001b[0m \u001b[1m83s\u001b[0m 439ms/step - accuracy: 0.9328 - loss: 0.2237 - val_accuracy: 0.7619 - val_loss: 1.2685\n",
            "Epoch 11/25\n",
            "\u001b[1m134/134\u001b[0m \u001b[32m━━━━━━━━━━━━━━━━━━━━\u001b[0m\u001b[37m\u001b[0m \u001b[1m61s\u001b[0m 437ms/step - accuracy: 0.9349 - loss: 0.2092 - val_accuracy: 0.7391 - val_loss: 1.2940\n",
            "Epoch 12/25\n",
            "\u001b[1m134/134\u001b[0m \u001b[32m━━━━━━━━━━━━━━━━━━━━\u001b[0m\u001b[37m\u001b[0m \u001b[1m60s\u001b[0m 434ms/step - accuracy: 0.9354 - loss: 0.2053 - val_accuracy: 0.7723 - val_loss: 1.1654\n",
            "Epoch 13/25\n",
            "\u001b[1m134/134\u001b[0m \u001b[32m━━━━━━━━━━━━━━━━━━━━\u001b[0m\u001b[37m\u001b[0m \u001b[1m82s\u001b[0m 432ms/step - accuracy: 0.9336 - loss: 0.2101 - val_accuracy: 0.7657 - val_loss: 1.1223\n",
            "Epoch 14/25\n",
            "\u001b[1m134/134\u001b[0m \u001b[32m━━━━━━━━━━━━━━━━━━━━\u001b[0m\u001b[37m\u001b[0m \u001b[1m90s\u001b[0m 499ms/step - accuracy: 0.9388 - loss: 0.1972 - val_accuracy: 0.5731 - val_loss: 3.0949\n",
            "Epoch 15/25\n",
            "\u001b[1m134/134\u001b[0m \u001b[32m━━━━━━━━━━━━━━━━━━━━\u001b[0m\u001b[37m\u001b[0m \u001b[1m73s\u001b[0m 427ms/step - accuracy: 0.9348 - loss: 0.2029 - val_accuracy: 0.7619 - val_loss: 1.3817\n",
            "Epoch 16/25\n",
            "\u001b[1m134/134\u001b[0m \u001b[32m━━━━━━━━━━━━━━━━━━━━\u001b[0m\u001b[37m\u001b[0m \u001b[1m60s\u001b[0m 435ms/step - accuracy: 0.9372 - loss: 0.2082 - val_accuracy: 0.7429 - val_loss: 1.3203\n",
            "Epoch 17/25\n",
            "\u001b[1m134/134\u001b[0m \u001b[32m━━━━━━━━━━━━━━━━━━━━\u001b[0m\u001b[37m\u001b[0m \u001b[1m81s\u001b[0m 425ms/step - accuracy: 0.9382 - loss: 0.1920 - val_accuracy: 0.7543 - val_loss: 1.2551\n",
            "Epoch 18/25\n",
            "\u001b[1m134/134\u001b[0m \u001b[32m━━━━━━━━━━━━━━━━━━━━\u001b[0m\u001b[37m\u001b[0m \u001b[1m60s\u001b[0m 431ms/step - accuracy: 0.9470 - loss: 0.1735 - val_accuracy: 0.7353 - val_loss: 1.4193\n",
            "Epoch 19/25\n",
            "\u001b[1m134/134\u001b[0m \u001b[32m━━━━━━━━━━━━━━━━━━━━\u001b[0m\u001b[37m\u001b[0m \u001b[1m81s\u001b[0m 430ms/step - accuracy: 0.9473 - loss: 0.1694 - val_accuracy: 0.7419 - val_loss: 1.4275\n",
            "Epoch 20/25\n",
            "\u001b[1m134/134\u001b[0m \u001b[32m━━━━━━━━━━━━━━━━━━━━\u001b[0m\u001b[37m\u001b[0m \u001b[1m83s\u001b[0m 430ms/step - accuracy: 0.9411 - loss: 0.1742 - val_accuracy: 0.7562 - val_loss: 1.2881\n",
            "Epoch 21/25\n",
            "\u001b[1m134/134\u001b[0m \u001b[32m━━━━━━━━━━━━━━━━━━━━\u001b[0m\u001b[37m\u001b[0m \u001b[1m82s\u001b[0m 439ms/step - accuracy: 0.9552 - loss: 0.1403 - val_accuracy: 0.7400 - val_loss: 1.5242\n",
            "Epoch 22/25\n",
            "\u001b[1m134/134\u001b[0m \u001b[32m━━━━━━━━━━━━━━━━━━━━\u001b[0m\u001b[37m\u001b[0m \u001b[1m59s\u001b[0m 429ms/step - accuracy: 0.9481 - loss: 0.1575 - val_accuracy: 0.7505 - val_loss: 1.4137\n",
            "Epoch 23/25\n",
            "\u001b[1m134/134\u001b[0m \u001b[32m━━━━━━━━━━━━━━━━━━━━\u001b[0m\u001b[37m\u001b[0m \u001b[1m86s\u001b[0m 457ms/step - accuracy: 0.9411 - loss: 0.1895 - val_accuracy: 0.7353 - val_loss: 1.3361\n",
            "Epoch 24/25\n",
            "\u001b[1m134/134\u001b[0m \u001b[32m━━━━━━━━━━━━━━━━━━━━\u001b[0m\u001b[37m\u001b[0m \u001b[1m88s\u001b[0m 507ms/step - accuracy: 0.9564 - loss: 0.1196 - val_accuracy: 0.7600 - val_loss: 1.3357\n",
            "Epoch 25/25\n",
            "\u001b[1m134/134\u001b[0m \u001b[32m━━━━━━━━━━━━━━━━━━━━\u001b[0m\u001b[37m\u001b[0m \u001b[1m73s\u001b[0m 434ms/step - accuracy: 0.9498 - loss: 0.1510 - val_accuracy: 0.7581 - val_loss: 1.4203\n"
          ]
        }
      ]
    },
    {
      "cell_type": "code",
      "source": [
        "untuned_model_save = model.save(\"models/MobileNetV2Untuned.keras\")"
      ],
      "metadata": {
        "id": "s4kZRuLrRqRM",
        "colab": {
          "base_uri": "https://localhost:8080/",
          "height": 141
        },
        "outputId": "c97c2135-e430-4190-96a0-766f18cd56f2"
      },
      "execution_count": null,
      "outputs": [
        {
          "output_type": "error",
          "ename": "NameError",
          "evalue": "name 'model' is not defined",
          "traceback": [
            "\u001b[0;31m---------------------------------------------------------------------------\u001b[0m",
            "\u001b[0;31mNameError\u001b[0m                                 Traceback (most recent call last)",
            "\u001b[0;32m<ipython-input-8-9838bd87679f>\u001b[0m in \u001b[0;36m<cell line: 1>\u001b[0;34m()\u001b[0m\n\u001b[0;32m----> 1\u001b[0;31m \u001b[0muntuned_model_save\u001b[0m \u001b[0;34m=\u001b[0m \u001b[0mmodel\u001b[0m\u001b[0;34m.\u001b[0m\u001b[0msave\u001b[0m\u001b[0;34m(\u001b[0m\u001b[0;34m\"/models/MobileNetV2Untuned.keras\"\u001b[0m\u001b[0;34m)\u001b[0m\u001b[0;34m\u001b[0m\u001b[0;34m\u001b[0m\u001b[0m\n\u001b[0m",
            "\u001b[0;31mNameError\u001b[0m: name 'model' is not defined"
          ]
        }
      ]
    },
    {
      "cell_type": "code",
      "source": [
        "for layer in base_model.layers[-20:]:\n",
        "  if not isinstance(layer, layers.BatchNormalization):\n",
        "    layer.trainable = True\n",
        "\n",
        "model.compile(optimizer=keras.optimizers.Adam(learning_rate=0.00001),\n",
        "              loss='sparse_categorical_crossentropy',\n",
        "              metrics=['accuracy'])\n",
        "\n",
        "trained_model_tuned = model.fit(\n",
        "    train_generator,\n",
        "    epochs=7,\n",
        "    validation_data=validation_generator,\n",
        "    callbacks=[checkpoint_callback]\n",
        ")"
      ],
      "metadata": {
        "id": "5JE6LEHepFOW",
        "colab": {
          "base_uri": "https://localhost:8080/"
        },
        "outputId": "8f63154d-5a63-4978-c947-d524fa1536ef"
      },
      "execution_count": null,
      "outputs": [
        {
          "output_type": "stream",
          "name": "stdout",
          "text": [
            "Epoch 1/7\n",
            "\u001b[1m134/134\u001b[0m \u001b[32m━━━━━━━━━━━━━━━━━━━━\u001b[0m\u001b[37m\u001b[0m \u001b[1m80s\u001b[0m 503ms/step - accuracy: 0.9553 - loss: 0.1452 - val_accuracy: 0.7818 - val_loss: 1.1301\n",
            "Epoch 2/7\n",
            "\u001b[1m134/134\u001b[0m \u001b[32m━━━━━━━━━━━━━━━━━━━━\u001b[0m\u001b[37m\u001b[0m \u001b[1m65s\u001b[0m 473ms/step - accuracy: 0.9629 - loss: 0.1272 - val_accuracy: 0.7676 - val_loss: 1.2500\n",
            "Epoch 3/7\n",
            "\u001b[1m134/134\u001b[0m \u001b[32m━━━━━━━━━━━━━━━━━━━━\u001b[0m\u001b[37m\u001b[0m \u001b[1m77s\u001b[0m 438ms/step - accuracy: 0.9585 - loss: 0.1266 - val_accuracy: 0.7723 - val_loss: 1.2667\n",
            "Epoch 4/7\n",
            "\u001b[1m134/134\u001b[0m \u001b[32m━━━━━━━━━━━━━━━━━━━━\u001b[0m\u001b[37m\u001b[0m \u001b[1m62s\u001b[0m 437ms/step - accuracy: 0.9619 - loss: 0.1180 - val_accuracy: 0.7780 - val_loss: 1.1707\n",
            "Epoch 5/7\n",
            "\u001b[1m134/134\u001b[0m \u001b[32m━━━━━━━━━━━━━━━━━━━━\u001b[0m\u001b[37m\u001b[0m \u001b[1m91s\u001b[0m 516ms/step - accuracy: 0.9667 - loss: 0.0913 - val_accuracy: 0.7922 - val_loss: 1.1598\n",
            "Epoch 6/7\n",
            "\u001b[1m134/134\u001b[0m \u001b[32m━━━━━━━━━━━━━━━━━━━━\u001b[0m\u001b[37m\u001b[0m \u001b[1m62s\u001b[0m 434ms/step - accuracy: 0.9668 - loss: 0.1102 - val_accuracy: 0.7818 - val_loss: 1.1909\n",
            "Epoch 7/7\n",
            "\u001b[1m134/134\u001b[0m \u001b[32m━━━━━━━━━━━━━━━━━━━━\u001b[0m\u001b[37m\u001b[0m \u001b[1m62s\u001b[0m 445ms/step - accuracy: 0.9732 - loss: 0.0725 - val_accuracy: 0.7818 - val_loss: 1.2125\n"
          ]
        }
      ]
    },
    {
      "cell_type": "code",
      "source": [
        "model.save(\"models/MobileNetV2Tuned.keras\")"
      ],
      "metadata": {
        "id": "Z-TgyertYT6z"
      },
      "execution_count": null,
      "outputs": []
    },
    {
      "cell_type": "code",
      "source": [
        "plt.plot(trained_model.history['accuracy'], label=\"Training accuracy\")\n",
        "plt.plot(trained_model.history['val_accuracy'], label=\"validation Accuracy\")\n",
        "plt.title(\"Model accuracy\")\n",
        "plt.xlabel(\"Epochs\")\n",
        "plt.ylabel(\"Accuracy\")\n",
        "plt.legend()\n",
        "plt.show()\n",
        "\n",
        "# Plot loss....\n",
        "plt.plot(trained_model.history['loss'], label=\"Training Loss\")\n",
        "plt.plot(trained_model.history['val_loss'], label=\"validation Loss\")\n",
        "plt.title(\"Model Loss\")\n",
        "plt.xlabel(\"Epochs\")\n",
        "plt.ylabel(\"Loss\")\n",
        "plt.legend()\n",
        "plt.show()"
      ],
      "metadata": {
        "colab": {
          "base_uri": "https://localhost:8080/",
          "height": 927
        },
        "id": "K_cui5PRcgWh",
        "outputId": "c7248717-3b92-42b6-848e-010c7f154d25"
      },
      "execution_count": null,
      "outputs": [
        {
          "output_type": "display_data",
          "data": {
            "text/plain": [
              "<Figure size 640x480 with 1 Axes>"
            ],
            "image/png": "[encoded data removed]"
          },
          "metadata": {}
        },
        {
          "output_type": "display_data",
          "data": {
            "text/plain": [
              "<Figure size 640x480 with 1 Axes>"
            ],
            "image/png": "[encoded data removed]"
          },
          "metadata": {}
        }
      ]
    },
    {
      "cell_type": "code",
      "source": [
        "test_datagen = ImageDataGenerator(rescale = 1./255)\n",
        "test_generator = test_datagen.flow_from_directory(image_folder_test,\n",
        "                                                           target_size = IMG_SIZE,\n",
        "                                                           class_mode='sparse',\n",
        "                                                           batch_size = batch_size)"
      ],
      "metadata": {
        "id": "k6ZWhBuh1u97",
        "colab": {
          "base_uri": "https://localhost:8080/"
        },
        "outputId": "237f2158-cbeb-4702-8d5f-e2b34446073a"
      },
      "execution_count": null,
      "outputs": [
        {
          "output_type": "stream",
          "name": "stdout",
          "text": [
            "Found 939 images belonging to 20 classes.\n"
          ]
        }
      ]
    },
    {
      "cell_type": "code",
      "source": [
        "from tensorflow.keras.preprocessing import image\n",
        "from tensorflow import keras\n",
        "\n",
        "def predict(file_path, model):\n",
        "  img = image.load_img(file_path, target_size=IMG_SIZE)\n",
        "  img = image.img_to_array(img)\n",
        "  img = img / 255.0\n",
        "  img = np.expand_dims(img, axis=0)\n",
        "\n",
        "  class_names = {0: 'burger', 1: 'butter_naan', 2: 'chai', 3: 'chapati', 4: 'chole_bhature', 5: 'dal_makhani', 6: 'dhokla', 7: 'fried_rice', 8: 'idli', 9: 'jalebi', 10: 'kadhai_paneer', 11: 'kathi_roll', 12: 'kulfi', 13: 'masala_dosa', 14: 'momos', 15: 'paani_puri', 16: 'pakode', 17: 'pav_bhaji', 18: 'pizza', 19: 'samosa'}\n",
        "\n",
        "  prediction = model.predict(img)\n",
        "\n",
        "  predicted_class = class_names[np.argmax(prediction)]\n",
        "  return predicted_class\n",
        "\n",
        "saved_model = keras.models.load_model(\"models/MobileNetV2Tuned.keras\")\n"
      ],
      "metadata": {
        "id": "veLvBpa1N8vF"
      },
      "execution_count": 22,
      "outputs": []
    },
    {
      "cell_type": "code",
      "source": [
        "scores = saved_model.evaluate(test_generator)\n",
        "print(\"%s%s: %.2f%%\" % (\"evaluate \",saved_model.metrics_names[1], scores[1]*100))\n"
      ],
      "metadata": {
        "id": "Q6q33WnKP3rf",
        "colab": {
          "base_uri": "https://localhost:8080/"
        },
        "outputId": "5b503550-119a-4937-c958-05ff4cf018ea"
      },
      "execution_count": null,
      "outputs": [
        {
          "output_type": "stream",
          "name": "stderr",
          "text": [
            "/usr/local/lib/python3.10/dist-packages/keras/src/trainers/data_adapters/py_dataset_adapter.py:122: UserWarning: Your `PyDataset` class should call `super().__init__(**kwargs)` in its constructor. `**kwargs` can include `workers`, `use_multiprocessing`, `max_queue_size`. Do not pass these arguments to `fit()`, as they will be ignored.\n",
            "  self._warn_if_super_not_called()\n"
          ]
        },
        {
          "output_type": "stream",
          "name": "stdout",
          "text": [
            "\u001b[1m30/30\u001b[0m \u001b[32m━━━━━━━━━━━━━━━━━━━━\u001b[0m\u001b[37m\u001b[0m \u001b[1m13s\u001b[0m 181ms/step - accuracy: 0.7784 - loss: 1.0317\n",
            "evaluate compile_metrics: 78.81%\n"
          ]
        }
      ]
    },
    {
      "cell_type": "code",
      "source": [
        "predict(\"momos.jpg\", saved_model)"
      ],
      "metadata": {
        "id": "5lRbvcNlIRhc",
        "colab": {
          "base_uri": "https://localhost:8080/",
          "height": 52
        },
        "outputId": "c97cc8b0-261d-44fe-ddb2-4a48ed88661e"
      },
      "execution_count": 25,
      "outputs": [
        {
          "output_type": "stream",
          "name": "stdout",
          "text": [
            "\u001b[1m1/1\u001b[0m \u001b[32m━━━━━━━━━━━━━━━━━━━━\u001b[0m\u001b[37m\u001b[0m \u001b[1m0s\u001b[0m 21ms/step\n"
          ]
        },
        {
          "output_type": "execute_result",
          "data": {
            "text/plain": [
              "'momos'"
            ],
            "application/vnd.google.colaboratory.intrinsic+json": {
              "type": "string"
            }
          },
          "metadata": {},
          "execution_count": 25
        }
      ]
    }
  ],
  "metadata": {
    "accelerator": "GPU",
    "colab": {
      "gpuType": "T4",
      "provenance": []
    },
    "kernelspec": {
      "display_name": "Python (food101)",
      "language": "python",
      "name": "food101"
    },
    "language_info": {
      "codemirror_mode": {
        "name": "ipython",
        "version": 3
      },
      "file_extension": ".py",
      "mimetype": "text/x-python",
      "name": "python",
      "nbconvert_exporter": "python",
      "pygments_lexer": "ipython3",
      "version": "3.13.0"
    }
  },
  "nbformat": 4,
  "nbformat_minor": 0
}